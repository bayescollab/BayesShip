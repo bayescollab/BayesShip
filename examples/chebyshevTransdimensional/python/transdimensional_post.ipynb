{
 "cells": [
  {
   "cell_type": "code",
   "execution_count": null,
   "id": "meaningful-potter",
   "metadata": {},
   "outputs": [],
   "source": [
    "import numpy as np\n",
    "import matplotlib.pyplot as plt\n",
    "# import gwatpy.mcmc_routines as gmcmc\n",
    "from corner import corner\n",
    "import h5py \n",
    "import bayesshippy.mcmcRoutines as bmcmc\n"
   ]
  },
  {
   "cell_type": "markdown",
   "id": "85ca186d",
   "metadata": {},
   "source": [
    "Set parameters to pick out dataset"
   ]
  },
  {
   "cell_type": "code",
   "execution_count": null,
   "id": "nearby-staff",
   "metadata": {},
   "outputs": [],
   "source": [
    "beta = 2\n",
    "M = 3\n",
    "sigma = 1\n",
    "t = 100\n",
    "dt =1\n",
    "run_id = \"{}_{}_{}_{}_{}\".format(beta,M,sigma,t,dt)\n",
    "dirname = \"../data/{}/\".format(run_id)"
   ]
  },
  {
   "cell_type": "markdown",
   "id": "smaller-company",
   "metadata": {},
   "source": [
    "Routines for unpacking "
   ]
  },
  {
   "cell_type": "markdown",
   "id": "august-brick",
   "metadata": {},
   "source": [
    "True data "
   ]
  },
  {
   "cell_type": "code",
   "execution_count": null,
   "id": "plastic-meditation",
   "metadata": {},
   "outputs": [],
   "source": [
    "N = 100\n",
    "time = np.linspace(0,N,N)\n",
    "dn = 2/ (N-1)\n",
    "sigma = 1\n",
    "beta = 5"
   ]
  },
  {
   "cell_type": "markdown",
   "id": "published-least",
   "metadata": {},
   "source": [
    "True data: created from a polynomial of order M and beta and noise sigma: \n",
    "$$ y(t) =  \\sum_i^M \\alpha_i (t/T)^i + \\mathcal{N}(0,\\sigma^2)$$\n",
    "with $ T $ being the length of the signal\n",
    "$$\n",
    "\\alpha \\sim \\mathcal{N} (0,\\beta^2)\n",
    "$$\n"
   ]
  },
  {
   "cell_type": "code",
   "execution_count": null,
   "id": "cellular-ferry",
   "metadata": {},
   "outputs": [],
   "source": [
    "true_data = np.loadtxt(dirname+\"full_data_transdimensional.csv\")\n",
    "true_clean_data = np.loadtxt(dirname+\"clean_data_transdimensional.csv\")\n",
    "fig, ax = plt.subplots(figsize=[8,5])\n",
    "ax.plot(true_data,label='True data with noise',alpha=.8)\n",
    "ax.plot(true_clean_data,label='True data without noise',alpha=.8)\n",
    "ax.set_xlabel(\"Time\")\n",
    "plt.legend()\n",
    "plt.savefig(\"../plots/transdimensional_true_data.jpg\")\n",
    "plt.show()\n",
    "plt.close()"
   ]
  },
  {
   "cell_type": "code",
   "execution_count": null,
   "id": "beautiful-provider",
   "metadata": {},
   "outputs": [],
   "source": [
    "labels = [r'$\\sigma$']\n",
    "for x in np.arange(10):\n",
    "    labels.append('p_{}'.format(x+1))"
   ]
  },
  {
   "cell_type": "markdown",
   "id": "above-dealing",
   "metadata": {},
   "source": [
    "Recovery model is Chebyshev polynomial with order P, assuming gaussian noise and fitting for $ \\sigma $ of the noise. This means the model dimension is P+1\n",
    "$$\n",
    "y'(t) = \\sum_i^P p_i \\cos\\left( i \\times \\arccos( x)\\right)\n",
    "$$\n",
    "where $ x $ is \n",
    "$$\n",
    "x = -1 + 2 t/T\n",
    "$$\n",
    "\n",
    "The likelihood is chi squared (with $N = T/dt$):\n",
    "$$\n",
    "\\ln \\mathcal{L} = - \\sum_i^{N} \\left( y (t_i) -  y' (t_i)\\right)^2 / (2 \\sigma^2 ) - (N/2)\\log\\left( 2 \\pi \\sigma^2\\right) \n",
    "$$\n",
    "\n",
    "The prior for the model is a simple flat prior for each parameter\n",
    "\n",
    "$$\n",
    "p(\\sigma) \\sim U(0.01,10)\n",
    "$$\n",
    "\n",
    "for the noise standard deviation, and\n",
    "\n",
    "$$\n",
    "p(p_i) \\sim U(-10,10)\n",
    "$$"
   ]
  },
  {
   "cell_type": "code",
   "execution_count": null,
   "id": "composed-broadcast",
   "metadata": {},
   "outputs": [],
   "source": [
    "def cheb_fn(P,coeff,x ):\n",
    "    return np.sum(coeff[:P] * np.cos(np.arange(P)*np.arccos(x)))"
   ]
  },
  {
   "cell_type": "markdown",
   "id": "hundred-journalism",
   "metadata": {},
   "source": [
    "Import the RJPTMCMC data and unpack "
   ]
  },
  {
   "cell_type": "code",
   "execution_count": null,
   "id": "abstract-polyester",
   "metadata": {},
   "outputs": [],
   "source": [
    "dataDir = \"\"\n",
    "# dataDir = \"equalModelWeight/\"\n",
    "# dataDir = \"unadjustedModelWeight/\"\n",
    "print(\"Reading in file: \",dirname+\"{}transdimensionalChebyshev_output.hdf5\".format(dataDir))\n",
    "datafile = h5py.File(dirname+\"{}transdimensionalChebyshev_output.hdf5\".format(dataDir))\n",
    "data, status, model_status = bmcmc.RJMCMC_unpack_file(dirname+\"{}transdimensionalChebyshev_output.hdf5\".format(dataDir))\n",
    "data = [data,status]\n",
    "datafilePrior = h5py.File(dirname+\"{}transdimensionalChebyshevPrior_output.hdf5\".format(dataDir))\n",
    "dataPrior, statusPrior, model_statusPrior = bmcmc.RJMCMC_unpack_file(dirname+\"{}transdimensionalChebyshevPrior_output.hdf5\".format(dataDir))\n",
    "dataPrior = [dataPrior,statusPrior]\n"
   ]
  },
  {
   "cell_type": "markdown",
   "id": "persistent-logan",
   "metadata": {},
   "source": [
    "Check some basic plots -- plot trace/histogram of one dimension at a time "
   ]
  },
  {
   "cell_type": "code",
   "execution_count": null,
   "id": "universal-paper",
   "metadata": {},
   "outputs": [],
   "source": [
    "ID = 0\n",
    "\n",
    "plt.plot(data[0][np.array(data[1][:,ID],dtype=bool),ID])\n",
    "plt.title(\"Trace for Parameter: {}\".format(labels[ID]))\n",
    "plt.show()\n",
    "plt.close()\n",
    "plt.hist(data[0][np.array(data[1][:,ID],dtype=bool),ID],bins=50)\n",
    "plt.title(\"Hist for Parameter: {}\".format(labels[ID]))\n",
    "plt.show()\n",
    "plt.close()"
   ]
  },
  {
   "cell_type": "markdown",
   "id": "associate-geneva",
   "metadata": {},
   "source": [
    "Plot Histograms of the dimensions -- probability of different models "
   ]
  },
  {
   "cell_type": "code",
   "execution_count": null,
   "id": "cross-liechtenstein",
   "metadata": {},
   "outputs": [],
   "source": [
    "bins = np.linspace(0.5,len(data[1][0])+.5,len(data[1][0])+1)\n",
    "mids = bins[1:] - .5\n",
    "print(bins)\n",
    "#Collapse dimensions structure to the sum of the active dimensions (N samples, maxDim) => (N samples)\n",
    "dims = np.sum(data[1],axis=1)\n",
    "\n",
    "fig, ax = plt.subplots(figsize=[15,8])\n",
    "probs, bins, _patches = ax.hist(dims,bins=bins,log=True,density=True)\n",
    "print(\"Probabilities:\")\n",
    "[print(\"Dim: {}\".format(x+1),\"Probability: {:.3e}\".format( probs[x])) for x in np.arange(len(probs))]\n",
    "ax.set_xlabel(\"Dimension of the model\")\n",
    "ax.set_ylabel(\"Probability\")\n",
    "plt.savefig(\"../plots/posterior_modelspace.jpg\")\n",
    "plt.savefig(\"../plots/posterior_modelspace.pdf\")\n",
    "plt.show()\n",
    "plt.close()\n"
   ]
  },
  {
   "cell_type": "code",
   "execution_count": null,
   "id": "laughing-biotechnology",
   "metadata": {
    "scrolled": true
   },
   "outputs": [],
   "source": [
    "plt.plot(dims)\n",
    "plt.xlabel(\"Iteration\")\n",
    "plt.ylabel(\"Dimension\")\n",
    "plt.show()\n",
    "plt.close()"
   ]
  },
  {
   "cell_type": "code",
   "execution_count": null,
   "id": "noble-moment",
   "metadata": {},
   "outputs": [],
   "source": [
    "bins = np.linspace(0.5,len(data[1][0])+.5,len(data[1][0])+1)\n",
    "mids = bins[1:] - .5\n",
    "print(bins)\n",
    "dims = np.sum(dataPrior[1],axis=1)\n",
    "print(len(dims))\n",
    "fig, ax = plt.subplots(figsize=[15,8])\n",
    "probs, bins, _patches = ax.hist(dims,bins=bins,log=True,density=True)\n",
    "print(\"| Dim | Probability | Scaling relative to 2 dimensions(Emperical) | Scaling (expected)\")\n",
    "print(\"| --- | --- | --- | --- |\")\n",
    "[print(\"|{}\".format(x+2),\"{:.3e}\".format( probs[x+1]),\" {:.3e}\".format( probs[x+1]/probs[1]),\" {:.3e} |\".format((1./20.)**x),sep=' | ') for x in np.arange(len(probs)-1)]\n",
    "# [print(\"| Dim: {}\".format(x+2),\"Probability: {:.3e}\".format( probs[x+1]),\"Scaling Relative to 2 Dim: {:.3e}\".format( probs[x+1]/probs[1]),\"Scaling expectation: {:.3e} |\".format((1./20.)**x),sep=' | ') for x in np.arange(len(probs)-1)]\n",
    "# [print( (1./20.)**x , cts[x+1]/cts[1], ((1./20.)**x - cts[x+1]/cts[1])/((1./20.)**x ) ) for x in np.arange(len(cts[1:])) ]\n",
    "\n",
    "ax.set_xlabel(\"Dimension of the model\")\n",
    "ax.set_ylabel(\"Probability\")\n",
    "ax.set_ylim((10**-5,1))\n",
    "plt.savefig(\"../plots/prior_modelspace_adjusted.jpg\")\n",
    "plt.savefig(\"../plots/prior_modelspace_adjusted.pdf\")\n",
    "plt.show()\n",
    "plt.close()\n"
   ]
  },
  {
   "cell_type": "code",
   "execution_count": null,
   "id": "satellite-chaos",
   "metadata": {},
   "outputs": [],
   "source": [
    "plt.plot(dims)"
   ]
  },
  {
   "cell_type": "code",
   "execution_count": null,
   "id": "statistical-nightmare",
   "metadata": {},
   "outputs": [],
   "source": [
    "ID = 0\n",
    "\n",
    "plt.plot(dataPrior[0][np.array(dataPrior[1][:,ID],dtype=bool),ID])\n",
    "plt.title(\"Trace for Parameter: {}\".format(labels[ID]))\n",
    "plt.show()\n",
    "plt.close()\n",
    "plt.hist(dataPrior[0][np.array(dataPrior[1][:,ID],dtype=bool),ID],bins=50)\n",
    "plt.title(\"Hist for Parameter: {}\".format(labels[ID]))\n",
    "plt.show()\n",
    "plt.close()"
   ]
  },
  {
   "cell_type": "markdown",
   "id": "guilty-testing",
   "metadata": {},
   "source": [
    "Used a traditional PTMCMC with the most favored model (P=5 or 6 dimensions)"
   ]
  },
  {
   "cell_type": "code",
   "execution_count": null,
   "id": "controlled-omega",
   "metadata": {},
   "outputs": [],
   "source": [
    "p = 3\n",
    "dataSingle = bmcmc.MCMC_unpack_file(dirname+\"transdimensionalChebyshevSingle_{}_output.hdf5\".format(p))\n",
    "print(\"data shape: \",dataSingle.shape)\n",
    "fig = corner(dataSingle)\n",
    "plt.show()\n",
    "plt.close()\n"
   ]
  },
  {
   "cell_type": "code",
   "execution_count": null,
   "id": "technological-contest",
   "metadata": {},
   "outputs": [],
   "source": [
    "fig = corner(dataSingle,weights=np.ones(len(dataSingle))/len(dataSingle),labels=labels,show_titles=True)\n",
    "dims = np.sum(data[1],axis=1)\n",
    "dataPlot = data[0][dims==len(dataSingle[0]),:len(dataSingle[0])]\n",
    "corner(dataPlot,fig=fig,weights=np.ones(len(dataPlot))/len(dataPlot),color='green')\n",
    "plt.savefig(\"../plots/MCMC_RJMCMC_comp.jpg\")\n",
    "plt.savefig(\"../plots/MCMC_RJMCMC_comp.pdf\")\n",
    "plt.show()\n",
    "plt.close()"
   ]
  },
  {
   "cell_type": "code",
   "execution_count": null,
   "id": "institutional-anxiety",
   "metadata": {},
   "outputs": [],
   "source": [
    "ids = np.random.choice(np.arange(len(data[0])),size = 1000)\n",
    "recon = [[cheb_fn(np.sum(data[1][x,1:]), data[0][x,1:],-1 + dn *t) for t in np.arange(len(time))] for x in ids]\n",
    "reconPrior = [[cheb_fn(np.sum(dataPrior[1][x,1:]), dataPrior[0][x,1:],-1 + dn *t) for t in np.arange(len(time))] for x in np.random.choice(np.arange(len(dataPrior[0])),size = 1000)]\n",
    "reconSingle = [[cheb_fn(len(dataSingle[0])-1, dataSingle[x,1:],-1 + dn *t) for t in np.arange(len(time))] for x in np.random.choice(np.arange(len(dataSingle)),size = 1000)]\n"
   ]
  },
  {
   "cell_type": "code",
   "execution_count": null,
   "id": "russian-microwave",
   "metadata": {},
   "outputs": [],
   "source": [
    "for x in recon:\n",
    "    plt.plot(x,alpha=.5,linewidth=1)\n",
    "plt.show()\n",
    "plt.close()\n",
    "for x in reconSingle:\n",
    "    plt.plot(np.array(x),alpha=.5,linewidth=1)\n",
    "plt.show()\n",
    "plt.close()\n",
    "for x in reconPrior:\n",
    "    plt.plot(x,alpha=.5,linewidth=1)\n",
    "plt.show()\n",
    "plt.close()"
   ]
  },
  {
   "cell_type": "markdown",
   "id": "stainless-routine",
   "metadata": {},
   "source": [
    "Calculate 90% and mean signals "
   ]
  },
  {
   "cell_type": "code",
   "execution_count": null,
   "id": "optional-branch",
   "metadata": {},
   "outputs": [],
   "source": [
    "up = np.quantile(recon,.9,axis=0)\n",
    "down = np.quantile(recon,.1,axis=0)\n",
    "upSingle = np.quantile(reconSingle,.9,axis=0)\n",
    "downSingle = np.quantile(reconSingle,.1,axis=0)\n",
    "upPrior = np.quantile(reconPrior,.9,axis=0)\n",
    "downPrior = np.quantile(reconPrior,.1,axis=0)\n",
    " \n",
    "mean = np.mean(recon,axis=0)\n",
    "meanSingle = np.mean(reconSingle,axis=0)\n",
    "meanPrior = np.mean(reconPrior,axis=0)\n"
   ]
  },
  {
   "cell_type": "markdown",
   "id": "dried-anthony",
   "metadata": {},
   "source": [
    "Plot confidence regions and residuals "
   ]
  },
  {
   "cell_type": "code",
   "execution_count": null,
   "id": "complex-development",
   "metadata": {},
   "outputs": [],
   "source": [
    "fig,ax = plt.subplots(nrows=2,ncols=1,sharex=True,figsize=[8,8])\n",
    "ax[0].plot(time,true_data,label='Full Data')\n",
    "ax[0].plot(time,true_clean_data,label=\"True Signal\")\n",
    "ax[0].fill_between(time,up,down,alpha=.8,label='RJMCMC')\n",
    "ax[0].fill_between(time,upSingle,downSingle,alpha=.8,label='MCMC')\n",
    "# ax.fill_between(time,upPrior,downPrior,alpha=.3,label='RJMCMC Prior')\n",
    "ax[0].legend()\n",
    "ax[1].plot(time,true_data-mean,alpha=.8,label='RJMCMC (mean) Residual')\n",
    "ax[1].plot(time,true_data-meanSingle,alpha=.8,label='MCMC (mean) Residual')\n",
    "# ax.plot(time,true_data-meanPrior,alpha=.8,label='Prior (mean) Residual')\n",
    "ax[1].legend()\n",
    "ax[1].set_xlabel(\"Time\")\n",
    "plt.subplots_adjust( hspace=0)\n",
    "plt.savefig(\"../plots/reconstructions_ptrjmcmc.jpg\")\n",
    "plt.savefig(\"../plots/reconstructions_ptrjmcmc.pdf\")\n",
    "plt.show()\n",
    "plt.close()\n",
    "\n",
    "sigmaFit = np.mean(dataSingle[:,0])\n",
    "print(\"Likelihood approx for single dim: \", np.sum( -(true_data-meanSingle)**2/(2.*sigmaFit*sigmaFit) - (len(time)/2) * np.log(2.*np.pi * sigmaFit*sigmaFit)) )\n",
    "sigmaFit = np.mean(data[0][:,0])\n",
    "print(\"Likelihood approx for RJ: \", np.sum( -(true_data-mean)**2/(2.*sigmaFit*sigmaFit) - (len(time)/2) * np.log(2.*np.pi * sigmaFit*sigmaFit)) )\n",
    "\n"
   ]
  },
  {
   "cell_type": "markdown",
   "id": "static-valentine",
   "metadata": {},
   "source": [
    "Load in Bilby evidences "
   ]
  },
  {
   "cell_type": "code",
   "execution_count": null,
   "id": "grand-laser",
   "metadata": {},
   "outputs": [],
   "source": [
    "lnE = []\n",
    "# mods = np.array([1,2,3,4,5,6,7,8,9])\n",
    "mods = np.array([1,2,3,4,5,6,7,8])\n",
    "for x in mods:\n",
    "#     lnE.append(np.loadtxt(\"../data/bilby_transdimensionallog_evidence_{}.txt\".format(x)))\n",
    "    lne = np.loadtxt(dirname+\"bilby/log_evidence_{}.txt\".format(x))\n",
    "    \n",
    "    lnE.append(float(lne))\n",
    "# print(lnE)\n",
    "evidence = np.exp(np.array(lnE)) / np.sum(np.exp(np.array(lnE)))\n",
    "# print(evidence)\n",
    "fig, ax = plt.subplots()\n",
    "ax.scatter(mods+1,evidence)\n",
    "ax.set_yscale('log')\n",
    "ax.set_ylim([10**-5,1.1])\n",
    "ax.set_ylabel(\"Probability\")\n",
    "ax.set_xlabel(\"Dimension\")\n",
    "plt.show()\n",
    "plt.close()"
   ]
  },
  {
   "cell_type": "code",
   "execution_count": null,
   "id": "activated-input",
   "metadata": {
    "scrolled": true
   },
   "outputs": [],
   "source": [
    "bins = np.linspace(0.5,len(data[1][0])+.5,len(data[1][0])+1)\n",
    "mids = bins[1:] - .5\n",
    "# print(bins)\n",
    "dims = np.sum(data[1],axis=1)\n",
    "\n",
    "fig, ax = plt.subplots(figsize=[8,5])\n",
    "# ax.hist(dims,bins=bins,density=True,alpha=.8,label='RJPTMCMC')\n",
    "ax.hist(dims,bins=bins,log=True,density=True,alpha=.8,label='RJPTMCMC')\n",
    "ax.scatter(mods+1,evidence,color='red',label='Bilby')\n",
    "ax.set_ylim((10**-4,1.1))\n",
    "ax.set_xlabel(\"Dimension\")\n",
    "ax.legend()\n",
    "plt.savefig(\"../plots/evidence_bilby_vs_ptrjmcmc_adjusted.jpg\")\n",
    "plt.savefig(\"../plots/evidence_bilby_vs_ptrjmcmc_adjusted.pdf\")\n",
    "plt.show()\n",
    "plt.close()\n"
   ]
  },
  {
   "cell_type": "markdown",
   "id": "ruled-oklahoma",
   "metadata": {},
   "source": [
    "Load in Bilby Samples "
   ]
  },
  {
   "cell_type": "code",
   "execution_count": null,
   "id": "great-intention",
   "metadata": {},
   "outputs": [],
   "source": [
    "dataBilby = []\n",
    "for x in np.arange(8):\n",
    "    dataBilby.append(np.loadtxt(dirname+\"bilby/{}_samples.dat\".format(x+1),skiprows=1))\n",
    "    print(dataBilby[-1].shape)    "
   ]
  },
  {
   "cell_type": "markdown",
   "id": "outdoor-cholesterol",
   "metadata": {},
   "source": [
    "Reconstruct the signal with Bilby samples "
   ]
  },
  {
   "cell_type": "code",
   "execution_count": null,
   "id": "accepting-preservation",
   "metadata": {},
   "outputs": [],
   "source": [
    "reconBilby = [[[cheb_fn(ct+1,dataBilby[ct][x,1:],-1 + dn *t) for t in np.arange(len(time))] for x in np.random.choice(np.arange(len(dataBilby[ct])),size = 1000)] for ct in np.arange(len(dataBilby))]\n"
   ]
  },
  {
   "cell_type": "code",
   "execution_count": null,
   "id": "weird-married",
   "metadata": {},
   "outputs": [],
   "source": [
    "ct = 2\n",
    "for d in reconBilby:\n",
    "    fig,ax=plt.subplots(nrows=2,ncols=1,sharex=True,figsize=[8,8])\n",
    "    \n",
    "#     for x in d:\n",
    "#         ax.plot(x,alpha=.5,linewidth=1)\n",
    "    upB = np.quantile(d,.9,axis=0)\n",
    "    downB = np.quantile(d,.1,axis=0)\n",
    "    meanB = np.mean(d,axis=0)\n",
    "    ax[0].fill_between(time,upB,downB,alpha=.3,label='Dynesty')\n",
    "    ax[0].fill_between(time,up,down,alpha=.3,label='RJMCMC',color='r')\n",
    "\n",
    "    ax[0].plot(time,true_data,label='Full Data')\n",
    "    ax[0].plot(time,true_clean_data,label=\"True Signal\")\n",
    "    ax[0].set_title(\"Dimensions: {}\".format(ct))\n",
    "    ax[0].legend()\n",
    "    \n",
    "    ax[1].plot(time,true_data-meanB,alpha=.8,label='Dynesty (mean) Residual')\n",
    "    ax[1].plot(time,true_data-mean,alpha=.8,label='RJMCMC (mean) Residual')\n",
    "    ax[1].plot(time,true_data-meanSingle,alpha=.8,label='MCMC (mean) Residual')\n",
    "    ax[1].legend()\n",
    "\n",
    "    ax[1].set_xlabel(\"Time\")\n",
    "    plt.subplots_adjust( hspace=0)\n",
    "    \n",
    "    plt.savefig(\"../plots/reconstruction_bilby_{}.jpg\".format(ct))\n",
    "    plt.savefig(\"../plots/reconstruction_bilby_{}.pdf\".format(ct))\n",
    "    ct+=1\n",
    "    plt.show()\n",
    "    plt.close()"
   ]
  },
  {
   "cell_type": "markdown",
   "id": "extended-velvet",
   "metadata": {},
   "source": [
    "Focus on specific dimension comparisons "
   ]
  },
  {
   "cell_type": "code",
   "execution_count": null,
   "id": "threatened-customer",
   "metadata": {},
   "outputs": [],
   "source": [
    "ct=2\n",
    "ID = 0\n",
    "startingData = 0\n",
    "if ID == 0 or ID == 1:\n",
    "    ct = 2\n",
    "    startingData = 0\n",
    "else:\n",
    "    ct = 2 + (ID-1)\n",
    "    startingData = ID -1\n",
    "# for d in dataBilby[ID-1:]:\n",
    "for d in dataBilby[startingData:]:\n",
    "    print(d.shape,ID,startingData)\n",
    "    fig,ax=plt.subplots(figsize=[10,5])\n",
    "#     for x in d:\n",
    "#         ax.plot(x,alpha=.5,linewidth=1)\n",
    "   \n",
    "    ax.hist(data[0][np.array(data[1][:,ID],dtype=bool),ID],bins=50,density=True,label='PTRJMCMC')\n",
    "    ax.hist(d[:,ID],bins=50,density=True,label='DYNESTY')\n",
    "    ax.set_title(\"Dimensions: {}\".format(ct ))\n",
    "    ax.legend()\n",
    "    ct+=1\n",
    "    plt.show()\n",
    "    plt.close()"
   ]
  },
  {
   "cell_type": "markdown",
   "id": "southwest-sucking",
   "metadata": {},
   "source": [
    "Corner comparison between Bilby 5 dimension and MCMC 5 dimension (Should be identical.. )"
   ]
  },
  {
   "cell_type": "code",
   "execution_count": null,
   "id": "latter-grill",
   "metadata": {},
   "outputs": [],
   "source": [
    "bilbyID = len(dataSingle[0])-2\n",
    "fig = corner(dataBilby[bilbyID],bins=30,labels=labels,show_titles=True,weights=np.ones(len(dataBilby[bilbyID]))/len(dataBilby[bilbyID]) )\n",
    "corner(dataSingle,fig=fig,bins=30,labels=labels,show_titles=True,color='blue',weights=np.ones(len(dataSingle))/len(dataSingle) ) \n",
    "plt.savefig(\"../plots/bilby_ptmcmc_comp_5dim.pdf\")\n",
    "plt.savefig(\"../plots/bilby_ptmcmc_comp_5dim.jpg\")\n",
    "plt.show()\n",
    "plt.close()\n",
    "for x in np.arange(len(dataSingle[0])):\n",
    "    cP = np.quantile(dataSingle[:,x],.95)-np.quantile(dataSingle[:,x],.05)\n",
    "    cB =np.quantile(dataBilby[bilbyID][:,x],.95)-np.quantile(dataBilby[bilbyID][:,x],.05)\n",
    "    print(x,cP, cB, 2*(cP - cB)/(cP + cB))    \n",
    "    "
   ]
  },
  {
   "cell_type": "markdown",
   "id": "palestinian-auckland",
   "metadata": {},
   "source": [
    "Comparison of RJPTMCMC and PTMCMC "
   ]
  },
  {
   "cell_type": "code",
   "execution_count": null,
   "id": "acoustic-bankruptcy",
   "metadata": {},
   "outputs": [],
   "source": [
    "gmcmc.RJcorner(data[0][:,:5],data[1][:,:5],figsize=[15,15],titles = labels,show_quantiles=True)\n",
    "plt.show()\n",
    "plt.close()\n",
    "gmcmc.RJcorner(dataSingle,np.ones(len(dataSingle)*5).reshape((len(dataSingle),5)),figsize=[15,15],titles = labels,show_quantiles=True)\n",
    "plt.show()\n",
    "plt.close()"
   ]
  },
  {
   "cell_type": "markdown",
   "id": "wired-minority",
   "metadata": {},
   "source": [
    "All corners for Bilby"
   ]
  },
  {
   "cell_type": "code",
   "execution_count": null,
   "id": "terminal-initial",
   "metadata": {},
   "outputs": [],
   "source": [
    "\n",
    "for d in dataBilby:\n",
    "    corner(d,bins=50,labels=labels,show_titles=True)\n",
    "   \n",
    "    plt.show()\n",
    "    plt.close()"
   ]
  },
  {
   "cell_type": "code",
   "execution_count": null,
   "id": "recognized-while",
   "metadata": {},
   "outputs": [],
   "source": []
  },
  {
   "cell_type": "markdown",
   "id": "addressed-newton",
   "metadata": {},
   "source": [
    "OLD -- GWATPY version with thermodynamic integration"
   ]
  },
  {
   "cell_type": "markdown",
   "id": "persistent-strengthening",
   "metadata": {},
   "source": [
    "ID = 4\n",
    "plt.hist(data[0][data[1][:,ID] == 1,ID])"
   ]
  },
  {
   "cell_type": "code",
   "execution_count": null,
   "id": "killing-flooring",
   "metadata": {},
   "outputs": [],
   "source": [
    "dims = np.sum(data[1],axis=1)"
   ]
  },
  {
   "cell_type": "code",
   "execution_count": null,
   "id": "isolated-denmark",
   "metadata": {},
   "outputs": [],
   "source": [
    "from scipy.integrate import trapz,quad\n",
    "from scipy.interpolate import interp1d\n",
    "Ts= [T1,T2,T3,T4]\n",
    "LLs = [IL1,IL2,IL3,IL4]\n",
    "lnE = []\n",
    "for ct in np.arange(len([IL1,IL2,IL3,IL4])):\n",
    "    \n",
    "    betas = np.flip(1/Ts[ct][:len(LLs[ct])-1])\n",
    "    LL = np.flip(LLs[ct][:-1])\n",
    "    func1 = interp1d(betas,LL,kind='cubic')\n",
    "    evidence = quad(func1, betas[0],betas[-1])[0]\n",
    "    evidencetrapz = trapz(LL,x=betas)\n",
    "    print(evidencetrapz)\n",
    "    lnE.append(evidence)\n",
    "print(lnE)\n",
    "print(evidence1,evidence2,evidence3,evidence4)"
   ]
  },
  {
   "cell_type": "code",
   "execution_count": null,
   "id": "warming-perfume",
   "metadata": {
    "scrolled": true
   },
   "outputs": [],
   "source": [
    "plt.plot(mids[2:6],[lnE[3],lnE[2],lnE[0],lnE[1]])"
   ]
  },
  {
   "cell_type": "code",
   "execution_count": null,
   "id": "unique-store",
   "metadata": {},
   "outputs": [],
   "source": [
    "print(\"Bayes factor 5/6 (RJ): \",np.sum(dims == 5) / np.sum(dims==6))\n",
    "print(\"Bayes factor 5/6 (PTMCMC): \",np.exp(lnE[0] - lnE[1]))\n",
    "print(\"Bayes factor 5/4 (RJ): \",np.sum(dims == 5) / np.sum(dims==4))\n",
    "print(\"Bayes factor 5/4 (PTMCMC): \",np.exp(lnE[0] - lnE[2]))\n",
    "print(\"Bayes factor 5/3 (RJ): \",np.sum(dims == 5) / np.sum(dims==3))\n",
    "print(\"Bayes factor 5/3 (PTMCMC): \",np.exp(lnE[0] - lnE[3]))\n",
    "print(\"Bayes factor 4/3 (RJ): \",np.sum(dims == 4) / np.sum(dims==3))\n",
    "print(\"Bayes factor 4/3 (PTMCMC): \",np.exp(lnE[2] -lnE[3]))"
   ]
  },
  {
   "cell_type": "code",
   "execution_count": null,
   "id": "standard-birthday",
   "metadata": {},
   "outputs": [],
   "source": [
    "plt.scatter(1/T4[:len(IL4[:-1])],IL4[:-1])\n",
    "print(1/T1[:len(IL1[:])])\n",
    "print(IL1)\n",
    "#plt.plot(IL2[:-1])\n",
    "#plt.plot(IL3[:-1])\n",
    "#plt.plot(IL4[:-1])"
   ]
  },
  {
   "cell_type": "code",
   "execution_count": null,
   "id": "spare-machine",
   "metadata": {
    "scrolled": true
   },
   "outputs": [],
   "source": [
    "print(ILNUM1)\n",
    "print(ILNUM2)\n",
    "print(ILNUM3)\n",
    "print(ILNUM4)\n",
    "print(T1)"
   ]
  },
  {
   "cell_type": "code",
   "execution_count": null,
   "id": "roman-polish",
   "metadata": {},
   "outputs": [],
   "source": [
    "f1 = h5py.File(\"../data/output_trans_fixed_dim1.hdf5\",'r')\n",
    "LLLP1 = f1[\"MCMC_OUTPUT\"][\"LOGL_LOGP\"]\n",
    "num =0\n",
    "ave = 0\n",
    "ensemble_member = 9\n",
    "ensemble_size = 10\n",
    "for c in LLLP1.keys():\n",
    "    chain = int(c[5:])\n",
    "    #if chain%ensemble_size == ensemble_member:\n",
    "    if True:\n",
    "        print(chain)\n",
    "        ave+= np.sum(LLLP1[c][:,0])\n",
    "        num+=len(LLLP1[c][:,0])\n",
    "        plt.plot(LLLP1[c][:,0])\n",
    "print(ave/num)"
   ]
  }
 ],
 "metadata": {
  "kernelspec": {
   "display_name": "Python 3",
   "language": "python",
   "name": "python3"
  },
  "language_info": {
   "codemirror_mode": {
    "name": "ipython",
    "version": 3
   },
   "file_extension": ".py",
   "mimetype": "text/x-python",
   "name": "python",
   "nbconvert_exporter": "python",
   "pygments_lexer": "ipython3",
   "version": "3.9.10"
  }
 },
 "nbformat": 4,
 "nbformat_minor": 5
}
